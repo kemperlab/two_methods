{
 "cells": [
  {
   "cell_type": "markdown",
   "metadata": {},
   "source": [
    "This code accompanies the paper submitted on July 1, 2019: Theory of time-resolved optical conductivity of\n",
    "superconductors: comparing two methods for its evaluation.\n",
    "\n",
    "Here we import the important packages and define the useful functions for this analysis."
   ]
  },
  {
   "cell_type": "code",
   "execution_count": 4,
   "metadata": {},
   "outputs": [
    {
     "name": "stdout",
     "output_type": "stream",
     "text": [
      "Populating the interactive namespace from numpy and matplotlib\n"
     ]
    }
   ],
   "source": [
    "%pylab inline\n",
    "from scipy import interpolate\n",
    "\n",
    "def fourier_transform(tax,fax,f_t):\n",
    "    M = outer(fax,tax)\n",
    "    A = exp(1.j*M)\n",
    "    return inner(A,f_t)\n",
    "\n",
    "def search(value,axis,error): \n",
    "    for it in arange(len(axis)):\n",
    "        if abs(axis[it]-value) < error:\n",
    "            return it\n",
    "    print(\"Value not found.\")  \n",
    "    return()"
   ]
  },
  {
   "cell_type": "markdown",
   "metadata": {},
   "source": [
    "$\\textbf{horizontal_FT:}$ general function that calculates fourier transform of 2D array of data along horizontal cuts. Here the inputs are as follows: \n",
    "\n",
    "$\\textbf{data:}$ is expected to be 2D array with horizontal axis identified with time axis tax_h. \n",
    "\n",
    "$\\textbf{tax_h:}$ should be evenly spaced time axis identifed with the horizontal axis of data. \n",
    "\n",
    "$\\textbf{decay:}$ (default False) indicates whether the Fourier transform should be done after convolving with a decaying exponential (characterized by variable tau) to smooth the Fourier transform. (See also: decay_param)\n",
    "\n",
    "$\\textbf{padding:}$ (default False) indicates whether to increase the resolution of frequency axis by appending zeros to the end of the horizontal strips- this only is recommended if the signal is zero for quite a while before the sampling along horizontal axis ends. \n",
    "\n",
    "$\\textbf{pad_len:}$ integer that indicates how much padding you would like to apply: if it is not set, the default is the length of the horizontal axis, doubling the length of the signal and the frequency resolution. Only applied if padding == True.\n",
    "\n",
    "$\\textbf{decay_param:}$ parameter used to characterize the strength of the decay if decay is set to True. \n",
    "\n",
    "This function returns a frequency axis fax and FT, a 3-dimensional array of fourier transform-ed data. The first index of this array specifies whether you are referring to the real (0) or imaginary part (1) of the fourier transform. The second index is identified with the number of the data set fed in as a horizontal strip of data, starting with 0. The third index is identified with the returned frequency axis fax. If padding is set to True in function call, this will return the new time axis tax as a 3rd output."
   ]
  },
  {
   "cell_type": "code",
   "execution_count": 5,
   "metadata": {},
   "outputs": [],
   "source": [
    "def horizontal_FT(data,tax_h,decay=False,padding=False,pad_len=0,decay_param=0):\n",
    "    assert len(tax_h) == len(data[0,:]), \"tax_h and x-axis of data must have same length.\"\n",
    "    tax = copy(tax_h)\n",
    "    if padding & (abs(pad_len) < 0.5): \n",
    "        pad_len = len(data[0,:])\n",
    "        pad = zeros(int(pad_len))\n",
    "        taxpadding = zeros_like(pad)\n",
    "        for it in arange(len(taxpadding)):\n",
    "            taxpadding[it] = max(tax_h) + (it+1)*(tax_h[1]-tax_h[0])\n",
    "        tax = concatenate((tax_h,taxpadding))\n",
    "    fax = fft.fftshift(fft.fftfreq(len(tax),d=tax[1]-tax[0]))\n",
    "    FT = zeros((2,len(data[:,0]),len(fax)))\n",
    "    for it in arange(len(FT[0,:,0])):\n",
    "        if padding:\n",
    "            strip = concatenate((data[it,:],pad))\n",
    "        else:\n",
    "            strip = data[it,:]\n",
    "        if decay:\n",
    "            strip *= exp(-(tax-tax[0])/decay_param)       # provides the decay to smooth FT.\n",
    "        f_w = fourier_transform(tax,fax,strip)\n",
    "        FT[0,it,:] = real(f_w)\n",
    "        FT[1,it,:] = imag(f_w)\n",
    "    if padding: return fax,FT,tax\n",
    "    return fax,FT"
   ]
  },
  {
   "cell_type": "markdown",
   "metadata": {},
   "source": [
    "$\\textbf{horizontal_conductivity:}$ specialized function that can be used to calculate optical conductivity as described in Method I (horizontal cuts, or variant $t_{gate}$) in the paper. This function calls horizontal_FT, defined above, and its arguments are as follows:\n",
    "\n",
    "$\\textbf{current:}$ electric current as a function of $t_{gate}$ and $t_{pp}$. Assumes that $t_{gate}$ is identified with the horizontal axis and $t_{pp}$ with the vertical axis. \n",
    "\n",
    "$\\textbf{E_t:}$ probe electric field as a function of tax_h. Assumed same shape as tax_h.\n",
    "\n",
    "$\\textbf{tax_h:}$ evenly spaced horizontal time axis.\n",
    "\n",
    "$\\textbf{decay:}$ (default False) indicates whether the $\\textit{current}$ should be multiplied by a decaying exponential before taking fourier transform. This has a smoothing effect in frequency domain. (See also: current_decay_param)\n",
    "\n",
    "$\\textbf{E_decay:}$ (default False) indicates whether the $\\textit{electric field}$ should be multiplied by a decaying exponential before taking fourier transform. This has a smoothing effect in frequency domain. (See also: E_decay_param)\n",
    "\n",
    "$\\textbf{padding:}$ (default false) indicates whether to increase the resolution of frequency axis by appending zeros to the end of the horizontal strips- this only is recommended if the signal is zero for quite a while before the sampling along horizontal axis ends. Affects both electric field and optical conductivity.\n",
    "\n",
    "$\\textbf{pad_len:}$ integer that indicates how much padding you would like to apply: if it is not set, the default is the length of the horizontal axis, doubling the length of the signal and the frequency resolution. Only applied if padding == True.\n",
    "\n",
    "$\\textbf{current_decay_param:}$ parameter used to characterize the strength of the decay in electric current if decay is set to True. \n",
    "\n",
    "$\\textbf{E_decay_param:}$ parameter used to characterize the strength of the decay in electric field if E_decay is set to True."
   ]
  },
  {
   "cell_type": "code",
   "execution_count": 6,
   "metadata": {},
   "outputs": [],
   "source": [
    "def horizontal_conductivity(current,E_t,tax_h,decay=False,E_decay=False,\n",
    "                            padding=False,pad_len=0,current_decay_param=1,E_decay_param=1):\n",
    "    \n",
    "    if padding: \n",
    "        freq,J_w,tax = horizontal_FT(current,tax_h,decay,padding,pad_len,current_decay_param)\n",
    "        field = concatenate((E_t,zeros((len(tax)-len(tax_h)))))\n",
    "    else: \n",
    "        freq,J_w = horizontal_FT(current,tax_h,decay,padding,pad_len,current_decay_param)\n",
    "        tax = tax_h\n",
    "        field = E_t\n",
    "    if E_decay:\n",
    "        field *= exp(-(tax-tax[0])/E_decay_param)\n",
    "    E_w = fourier_transform(tax,freq,field)\n",
    "    conductivities = zeros_like(J_w)\n",
    "    for it in arange(len(J_w[0,:,0])):\n",
    "        conductivities[0,it-1,:] = real((J_w[0,it,:] + 1j*J_w[1,it,:])/E_w )\n",
    "        conductivities[1,it-1,:] = imag((J_w[0,it,:] + 1j*J_w[1,it,:])/E_w )\n",
    "    return freq,conductivities"
   ]
  },
  {
   "cell_type": "markdown",
   "metadata": {},
   "source": [
    "We use this to calculate conductivity for a set of current data with 60 values of $t_{pp}$. Note that the probe field E_t and the pump field (not included) are the same for each value of $t_{pp}$. To illustrate the usage of this code, we do one calculation with weak decay parameter 250 for both current and electric field, and one without this part of the code implemented. Here we use the convention $\\sigma = \\sigma_1 + i \\, \\sigma_2$."
   ]
  },
  {
   "cell_type": "code",
   "execution_count": 7,
   "metadata": {},
   "outputs": [
    {
     "data": {
      "image/png": "[encoded data removed]",
      "text/plain": [
       "<Figure size 432x288 with 1 Axes>"
      ]
     },
     "metadata": {
      "needs_background": "light"
     },
     "output_type": "display_data"
    }
   ],
   "source": [
    "for it in arange(1,60):\n",
    "    globals()['J'+str(it)] = genfromtxt('J'+str(it)+'.dat')\n",
    "t_gate = J1[:,0]\n",
    "current_data = zeros((59,len(J1[:,1])))\n",
    "for it in arange(1,59):\n",
    "    current_data[it,:] = globals()['J'+str(it)][:,1]\n",
    "E_t = genfromtxt(\"E.dat\")[:575,1]    # generates sample electric field as a function of time.\n",
    "fax,with_decay = horizontal_conductivity(current_data,E_t,t_gate,decay=True,\n",
    "                                         E_decay=True,padding=True,current_decay_param=250,\n",
    "                                         E_decay_param=250)\n",
    "fax,no_decay = horizontal_conductivity(current_data,E_t,t_gate,decay=False,\n",
    "                                       E_decay=True,padding=True,current_decay_param=250,\n",
    "                                       E_decay_param=250)\n",
    "\n",
    "fig,ax = subplots()\n",
    "ax.plot(fax,with_decay[0,0,:],label='$\\sigma_1$ w/ decay')\n",
    "ax.plot(fax,with_decay[1,0,:],label='$\\sigma_2$ w/ decay')\n",
    "ax.plot(fax,no_decay[0,0,:],label='$\\sigma_1$ w/o decay')\n",
    "ax.plot(fax,no_decay[1,0,:],label='$\\sigma_2$ w/o decay')\n",
    "ax.set_xlim(0.04,0.5)\n",
    "ax.set_ylim(0,1)\n",
    "ax.set_title('$\\sigma (t_{gate})$')\n",
    "ax.set_xlabel('$\\omega$ [eV]')\n",
    "ax.set_ylabel('$\\sigma$ [a.u.]')\n",
    "ax.legend()\n",
    "show()"
   ]
  },
  {
   "cell_type": "markdown",
   "metadata": {},
   "source": [
    "Note the similarities between the corresponding components of the conductivity calculated with and without the damping exponential: the curves are in both cases qualitatively similar, with dips and peaks at the same frequencies, but the conductivities calculated with a decay are overall slightly lower."
   ]
  },
  {
   "cell_type": "markdown",
   "metadata": {},
   "source": [
    "vertical_FT: calculates fourier transform of 2D array along vertical axis after performing vertical interpretation and shifting the data to give data as a function of $t_{gate}$ and the pump-probe time $t_{pp}$ as done in Method II of the paper. Potential issue: when used alonside method I, results may need to be normalized due to differnece in signal length in time domain before taking fourier transform. Returns an extended horizontal axis, a frequency axis, and array of fourier transforms. The array of fourier transforms is just as the one described above in horizontal_FT.\n",
    "\n",
    "Here the inputs are as follows:\n",
    "\n",
    "$\\textbf{aligned_data:}$ 2D array of data with x-axis identified with tax_h and y-axis identified with tax_v.\n",
    "\n",
    "$\\textbf{tax_h:}$ time axis associated with the x-axis of aligned_data.\n",
    "\n",
    "$\\textbf{tax_v:}$ time axis assoicated with the y-axis of aligned_data.\n",
    "\n",
    "$\\textbf{decay:}$ (default False) whether the data should be multiplied by a decaying exponential before taking fourier transform in order to smooth fourier transform in frequency domain.\n",
    "\n",
    "$\\textbf{pad_len:}$ (default 0) non-negative integer; how much padding to apply to end of signal. Padding here refers to appending 0's to end of the signal in time domain before taking fourier transform. Applying padding to a signal may increase resolution in frequency domain, but should only be done when the signal is 0 for a while towards the end in order to avoid inaccuracy in fourier transform.\n",
    "\n",
    "$\\textbf{decay_param:}$ if decay == True, the parameter used to characterize the strength of the decay."
   ]
  },
  {
   "cell_type": "code",
   "execution_count": 15,
   "metadata": {},
   "outputs": [],
   "source": [
    "def do_interp(aligned_data,tax_h,tax_v):\n",
    "    \n",
    "    # We calculate the location of the peak in one of the original horizontal cuts.     \n",
    "    spacing = tax_h[1] - tax_h[0]\n",
    "    vmin = tax_v[0]\n",
    "    vmax = tax_v[-1]\n",
    "    vsteps = int(1 + (vmax-vmin)/spacing)\n",
    "    new_tax_v = linspace(vmin,vmax,vsteps)\n",
    "    interpolated_data = zeros((len(tax_h),len(new_tax_v)))\n",
    "    for it in arange(len(tax_h)):\n",
    "        vstrip = aligned_data[:,it]\n",
    "        fit = interpolate.Akima1DInterpolator(tax_v,vstrip)\n",
    "        interpolated_data[it,:] = fit(new_tax_v)\n",
    "    hmin = min(tax_h) + min(tax_v)\n",
    "    hmax = max(tax_h) + max(tax_v)\n",
    "    hsteps = int(1 + (hmax-hmin)/spacing)\n",
    "    new_tax_h = linspace(hmin,hmax,hsteps)\n",
    "    shifted_data = zeros((len(new_tax_h),len(new_tax_v)))\n",
    "    for it in arange(len(new_tax_v)):\n",
    "        shifted_data[it:it+len(tax_h),it] = interpolated_data[:,it]\n",
    "    \n",
    "    return new_tax_h,new_tax_v,shifted_data\n",
    "\n",
    "\n",
    "\n",
    "def vert_FT(aligned_data,tax_h,tax_v,decay=False,cut_param=75,decay_param=0,padding=0):\n",
    "    new_tax_h,new_tax_v,shifted_data = do_interp(aligned_data,tax_h,tax_v)    \n",
    "    print(shape(new_tax_h))\n",
    "    spacing = tax_h[1] - tax_h[0]\n",
    "    \n",
    "    if padding == True:\n",
    "        t_padding = linspace(max(new_tax_v)+spacing,max(new_tax_v)+spacing*pad_len,pad_len)\n",
    "        t_pp = concatenate((new_tax_v,t_padding))\n",
    "    else:\n",
    "        t_pp = new_tax_v\n",
    "        \n",
    "    fax = fft.fftshift(fft.fftfreq(len(t_pp),d=spacing))\n",
    "    FT = zeros((2,len(new_tax_h),len(fax)))\n",
    "    \n",
    "    #FT_ax = linspace(0,spacing*len(aligned_data[:,0]),len(aligned_data[0,:]))\n",
    "    \n",
    "    lcut = argmax(aligned_data[:,0]) - cut_param\n",
    "    rcut = len(aligned_data[:,0])-lcut\n",
    "    t1 = tax_h[argmax(aligned_data[:,0])]\n",
    "    for it in arange(len(new_tax_h)):\n",
    "        shifted_strip = flip(shifted_data[it,:])\n",
    "        peak = argmax(shifted_strip)\n",
    "        if peak >= lcut and peak + rcut < len(fax):\n",
    "            vert = shifted_strip[0:peak+rcut]\n",
    "        else: # peak < lcut\n",
    "            cut = shifted_strip[0:int(lcut-peak+rcut)]\n",
    "            vert = concatenate((zeros((len(fax)-len(cut))),cut))\n",
    "        t2 = t_pp[argmax(cut)]\n",
    "        #return(shape(FT_ax-t2+t1),shape(fax),shape(vert))\n",
    "        vert_w = fourier_transform(t_pp - t2 + t1, fax, vert)\n",
    "        FT[0,it,:] = real(vert_w)\n",
    "        FT[1,it,:] = imag(vert_w)    \n",
    "    return new_tax_h,fax,FT"
   ]
  },
  {
   "cell_type": "code",
   "execution_count": null,
   "metadata": {},
   "outputs": [],
   "source": [
    "probe_center = genfromtxt('probe_center.dat')[:,1]\n",
    "t_gate,v_fax,FT_method_two = vert_FT(current_data,t_gate,probe_center)"
   ]
  },
  {
   "cell_type": "markdown",
   "metadata": {},
   "source": [
    "Below is an example of how vertical_FT may also be used to calculate the optical conductivity $\\sigma$, as in Method II of the paper."
   ]
  },
  {
   "cell_type": "code",
   "execution_count": 16,
   "metadata": {},
   "outputs": [
    {
     "ename": "NameError",
     "evalue": "name 'vfreqs' is not defined",
     "output_type": "error",
     "traceback": [
      "\u001b[0;31m---------------------------------------------------------------------------\u001b[0m",
      "\u001b[0;31mNameError\u001b[0m                                 Traceback (most recent call last)",
      "\u001b[0;32m<ipython-input-16-046f229979f2>\u001b[0m in \u001b[0;36m<module>\u001b[0;34m\u001b[0m\n\u001b[1;32m      1\u001b[0m \u001b[0mfig\u001b[0m\u001b[0;34m,\u001b[0m\u001b[0max\u001b[0m \u001b[0;34m=\u001b[0m \u001b[0msubplots\u001b[0m\u001b[0;34m(\u001b[0m\u001b[0;34m)\u001b[0m\u001b[0;34m\u001b[0m\u001b[0;34m\u001b[0m\u001b[0m\n\u001b[0;32m----> 2\u001b[0;31m \u001b[0max\u001b[0m\u001b[0;34m.\u001b[0m\u001b[0mplot\u001b[0m\u001b[0;34m(\u001b[0m\u001b[0mvfreqs\u001b[0m\u001b[0;34m,\u001b[0m\u001b[0mvFT\u001b[0m\u001b[0;34m[\u001b[0m\u001b[0;36m0\u001b[0m\u001b[0;34m,\u001b[0m\u001b[0;36m1000\u001b[0m\u001b[0;34m,\u001b[0m\u001b[0;34m:\u001b[0m\u001b[0;34m]\u001b[0m\u001b[0;34m,\u001b[0m\u001b[0mlabel\u001b[0m\u001b[0;34m=\u001b[0m\u001b[0;34m'$\\sigma_1$ w/ decay,$t_{gate}=$'\u001b[0m\u001b[0;34m+\u001b[0m\u001b[0mstr\u001b[0m\u001b[0;34m(\u001b[0m\u001b[0mt_gate_ax\u001b[0m\u001b[0;34m[\u001b[0m\u001b[0;36m1000\u001b[0m\u001b[0;34m]\u001b[0m\u001b[0;34m)\u001b[0m\u001b[0;34m)\u001b[0m\u001b[0;34m\u001b[0m\u001b[0;34m\u001b[0m\u001b[0m\n\u001b[0m\u001b[1;32m      3\u001b[0m \u001b[0max\u001b[0m\u001b[0;34m.\u001b[0m\u001b[0mplot\u001b[0m\u001b[0;34m(\u001b[0m\u001b[0mvfreqs\u001b[0m\u001b[0;34m,\u001b[0m\u001b[0mvFT\u001b[0m\u001b[0;34m[\u001b[0m\u001b[0;36m1\u001b[0m\u001b[0;34m,\u001b[0m\u001b[0;36m1000\u001b[0m\u001b[0;34m,\u001b[0m\u001b[0;34m:\u001b[0m\u001b[0;34m]\u001b[0m\u001b[0;34m,\u001b[0m\u001b[0mlabel\u001b[0m\u001b[0;34m=\u001b[0m\u001b[0;34m'$\\sigma_2$ w/ decay,$t_{gate}=$'\u001b[0m\u001b[0;34m+\u001b[0m\u001b[0mstr\u001b[0m\u001b[0;34m(\u001b[0m\u001b[0mt_gate_ax\u001b[0m\u001b[0;34m[\u001b[0m\u001b[0;36m1000\u001b[0m\u001b[0;34m]\u001b[0m\u001b[0;34m)\u001b[0m\u001b[0;34m)\u001b[0m\u001b[0;34m\u001b[0m\u001b[0;34m\u001b[0m\u001b[0m\n\u001b[1;32m      4\u001b[0m \u001b[0max\u001b[0m\u001b[0;34m.\u001b[0m\u001b[0mset_xlim\u001b[0m\u001b[0;34m(\u001b[0m\u001b[0;36m0.04\u001b[0m\u001b[0;34m,\u001b[0m\u001b[0;36m0.5\u001b[0m\u001b[0;34m)\u001b[0m\u001b[0;34m\u001b[0m\u001b[0;34m\u001b[0m\u001b[0m\n\u001b[1;32m      5\u001b[0m \u001b[0max\u001b[0m\u001b[0;34m.\u001b[0m\u001b[0mset_title\u001b[0m\u001b[0;34m(\u001b[0m\u001b[0;34m'$\\sigma (t_{pp})$'\u001b[0m\u001b[0;34m)\u001b[0m\u001b[0;34m\u001b[0m\u001b[0;34m\u001b[0m\u001b[0m\n",
      "\u001b[0;31mNameError\u001b[0m: name 'vfreqs' is not defined"
     ]
    },
    {
     "data": {
      "image/png": "[encoded data removed]",
      "text/plain": [
       "<Figure size 432x288 with 1 Axes>"
      ]
     },
     "metadata": {
      "needs_background": "light"
     },
     "output_type": "display_data"
    }
   ],
   "source": [
    "fig,ax = subplots()\n",
    "ax.plot(vfreqs,vFT[0,1000,:],label='$\\sigma_1$ w/ decay,$t_{gate}=$'+str(t_gate_ax[1000]))\n",
    "ax.plot(vfreqs,vFT[1,1000,:],label='$\\sigma_2$ w/ decay,$t_{gate}=$'+str(t_gate_ax[1000]))\n",
    "ax.set_xlim(0.04,0.5)\n",
    "ax.set_title('$\\sigma (t_{pp})$')\n",
    "ax.set_xlabel('$\\omega$ [eV]')\n",
    "ax.set_ylabel('$\\sigma$ [a.u.]')\n",
    "ax.legend()\n",
    "show()"
   ]
  },
  {
   "cell_type": "code",
   "execution_count": null,
   "metadata": {},
   "outputs": [],
   "source": []
  }
 ],
 "metadata": {
  "kernelspec": {
   "display_name": "Python 3",
   "language": "python",
   "name": "python3"
  },
  "language_info": {
   "codemirror_mode": {
    "name": "ipython",
    "version": 3
   },
   "file_extension": ".py",
   "mimetype": "text/x-python",
   "name": "python",
   "nbconvert_exporter": "python",
   "pygments_lexer": "ipython3",
   "version": "3.7.3"
  }
 },
 "nbformat": 4,
 "nbformat_minor": 4
}
